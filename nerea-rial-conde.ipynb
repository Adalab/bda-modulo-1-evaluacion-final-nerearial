{
 "cells": [
  {
   "cell_type": "markdown",
   "metadata": {},
   "source": [
    "# EVALUACIÓN FINAL MÓDULO 1\n",
    "\n",
    "## Promo B - PT \n",
    "### Alumna: Nerea Rial Conde"
   ]
  },
  {
   "cell_type": "code",
   "execution_count": 1,
   "metadata": {},
   "outputs": [
    {
     "ename": "SyntaxError",
     "evalue": "incomplete input (1026725526.py, line 5)",
     "output_type": "error",
     "traceback": [
      "\u001b[1;36m  Cell \u001b[1;32mIn[1], line 5\u001b[1;36m\u001b[0m\n\u001b[1;33m    \u001b[0m\n\u001b[1;37m    ^\u001b[0m\n\u001b[1;31mSyntaxError\u001b[0m\u001b[1;31m:\u001b[0m incomplete input\n"
     ]
    }
   ],
   "source": [
    "# Creación de la clase TiendaOnline\n",
    "\n",
    "class TiendaOnline:\n",
    "\n",
    "    def __init__(self, inventario, clientes, ventas_totales = \"0\"):\n",
    "        self.inventario = {\"nombre\":0,\"precio\":0,\"cantidad\":0}\n",
    "        self.clientes = {\"nombre\":\"\",\"email\":\"\"}\n",
    "        self.ventas_totales = float(ventas_totales)\n",
    "\n",
    "    def agregar_producto(self, nombre, precio, cantidad):\n",
    "        \n",
    "\n",
    "    "
   ]
  }
 ],
 "metadata": {
  "kernelspec": {
   "display_name": "Python 3",
   "language": "python",
   "name": "python3"
  },
  "language_info": {
   "codemirror_mode": {
    "name": "ipython",
    "version": 3
   },
   "file_extension": ".py",
   "mimetype": "text/x-python",
   "name": "python",
   "nbconvert_exporter": "python",
   "pygments_lexer": "ipython3",
   "version": "3.11.7"
  }
 },
 "nbformat": 4,
 "nbformat_minor": 2
}
